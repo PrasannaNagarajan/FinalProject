{
 "cells": [
  {
   "cell_type": "markdown",
   "metadata": {},
   "source": [
    "### Introduction: \n",
    "Introduce the project, your approach, talk about the process of how you came up with the metric and some alternatives you may have explored.\n",
    "\n",
    "\n",
    "### The Metric: \n",
    "Describe your metric, what features are you measuring. What datasets are you using?\n",
    "Our goal was to find the dryest neighborhood, based on the lack of pools, fewest amount of water features, and the overall lowest median age of death. The data sets we used we used were [City Pools](https://data.wprdc.org/dataset/city-pools/resource/5cc254fe-2cbd-4912-9f44-2f95f0beea9a), [Water Features](https://data.wprdc.org/dataset/city-water-features/resource/513290a6-2bac-4e41-8029-354cbda6a7b7), and [Median Age at Death 2011-15 by Neighborhood](https://data.wprdc.org/dataset/median-age-death/resource/c2e1500a-a12a-4e91-be94-76c6a892b7e2). "
   ]
  },
  {
   "cell_type": "markdown",
   "metadata": {},
   "source": [
    "### The Best Neighborhood:"
   ]
  },
  {
   "cell_type": "code",
   "execution_count": 1,
   "metadata": {},
   "outputs": [],
   "source": [
    "import pandas as pd\n",
    "import numpy as np"
   ]
  },
  {
   "cell_type": "markdown",
   "metadata": {},
   "source": [
    "### City Pools"
   ]
  },
  {
   "cell_type": "code",
   "execution_count": 2,
   "metadata": {},
   "outputs": [],
   "source": [
    "#load the city pools csv and the neighborhoods csv\n",
    "city_pools = pd.read_csv(\"CityPools.csv\")\n",
    "nbhoods = pd.read_csv(\"neighborhoods.csv\")"
   ]
  },
  {
   "cell_type": "markdown",
   "metadata": {},
   "source": [
    "#### Important Information\n",
    "##### City Pools\n",
    " * column 2, 'retired' has 0 non-null values\n",
    " * columns of interest are: name, capacity and neighborhood\n",
    "\n",
    "##### Neighborhoods\n",
    " * column 20, \"hood\", has the names of all 90 neighborhoods "
   ]
  },
  {
   "cell_type": "code",
   "execution_count": 3,
   "metadata": {},
   "outputs": [
    {
     "name": "stdout",
     "output_type": "stream",
     "text": [
      "South Side Flats            2\n",
      "Highland Park               2\n",
      "Beechview                   1\n",
      "Bloomfield                  1\n",
      "Hazelwood                   1\n",
      "Troy Hill                   1\n",
      "East Hills                  1\n",
      "Homewood South              1\n",
      "Brighton Heights            1\n",
      "Greenfield                  1\n",
      "Lincoln Place               1\n",
      "Shadyside                   1\n",
      "Banksville                  1\n",
      "Brookline                   1\n",
      "Carrick                     1\n",
      "Mount Washington            1\n",
      "Perry North                 1\n",
      "Squirrel Hill South         1\n",
      "Sheraden                    1\n",
      "Allegheny Center            1\n",
      "Beltzhoover                 1\n",
      "Polish Hill                 1\n",
      "Westwood                    1\n",
      "South Side Slopes           1\n",
      "Bedford Dwellings           1\n",
      "Lincoln-Lemington-Belmar    1\n",
      "Name: neighborhood, dtype: int64\n",
      "26\n"
     ]
    },
    {
     "data": {
      "text/plain": [
       "<matplotlib.axes._subplots.AxesSubplot at 0x7f8a6caef610>"
      ]
     },
     "execution_count": 3,
     "metadata": {},
     "output_type": "execute_result"
    },
    {
     "data": {
      "image/png": "[encoded data removed]",
      "text/plain": [
       "<Figure size 432x288 with 1 Axes>"
      ]
     },
     "metadata": {
      "needs_background": "light"
     },
     "output_type": "display_data"
    }
   ],
   "source": [
    "#number of pools per neighborhood -- aka the num of times each neigborhood appears\n",
    "nb_counts = city_pools['neighborhood'].value_counts().sort_values(ascending=False)\n",
    "print(nb_counts)\n",
    "print(len(nb_counts))\n",
    "nb_counts.to_frame()\n",
    "nb_counts.plot(kind='bar')"
   ]
  },
  {
   "cell_type": "markdown",
   "metadata": {},
   "source": [
    "#### Neighborhoods in city_pools\n",
    "top 2 neighborhoods to avoid are South Side Flats and Highland Park\n",
    "\n",
    "city_pools only includes 26/90 neighborhoods\n",
    " \n",
    " --> there are 64 neighborhoods with 0 pools"
   ]
  },
  {
   "cell_type": "markdown",
   "metadata": {},
   "source": [
    "## Neighborhood Water Features"
   ]
  },
  {
   "cell_type": "markdown",
   "metadata": {},
   "source": [
    "### data sample"
   ]
  },
  {
   "cell_type": "code",
   "execution_count": 4,
   "metadata": {},
   "outputs": [
    {
     "data": {
      "text/html": [
       "<div>\n",
       "<style scoped>\n",
       "    .dataframe tbody tr th:only-of-type {\n",
       "        vertical-align: middle;\n",
       "    }\n",
       "\n",
       "    .dataframe tbody tr th {\n",
       "        vertical-align: top;\n",
       "    }\n",
       "\n",
       "    .dataframe thead th {\n",
       "        text-align: right;\n",
       "    }\n",
       "</style>\n",
       "<table border=\"1\" class=\"dataframe\">\n",
       "  <thead>\n",
       "    <tr style=\"text-align: right;\">\n",
       "      <th></th>\n",
       "      <th>id</th>\n",
       "      <th>name</th>\n",
       "      <th>control_type</th>\n",
       "      <th>feature_type</th>\n",
       "      <th>inactive</th>\n",
       "      <th>make</th>\n",
       "      <th>image</th>\n",
       "      <th>neighborhood</th>\n",
       "      <th>council_district</th>\n",
       "      <th>ward</th>\n",
       "      <th>tract</th>\n",
       "      <th>public_works_division</th>\n",
       "      <th>pli_division</th>\n",
       "      <th>police_zone</th>\n",
       "      <th>fire_zone</th>\n",
       "      <th>latitude</th>\n",
       "      <th>longitude</th>\n",
       "    </tr>\n",
       "  </thead>\n",
       "  <tbody>\n",
       "    <tr>\n",
       "      <th>0</th>\n",
       "      <td>1816791851</td>\n",
       "      <td>Able Long Park</td>\n",
       "      <td>Continuous</td>\n",
       "      <td>Drinking Fountain</td>\n",
       "      <td>f</td>\n",
       "      <td>Regular Fountain</td>\n",
       "      <td>https://tools.wprdc.org/images/pittsburgh/wate...</td>\n",
       "      <td>Beechview</td>\n",
       "      <td>4</td>\n",
       "      <td>19</td>\n",
       "      <td>42003192000</td>\n",
       "      <td>5</td>\n",
       "      <td>19</td>\n",
       "      <td>6</td>\n",
       "      <td>4-28</td>\n",
       "      <td>40.408440</td>\n",
       "      <td>-80.028330</td>\n",
       "    </tr>\n",
       "    <tr>\n",
       "      <th>1</th>\n",
       "      <td>1599892422</td>\n",
       "      <td>Albert Turk Graham Park</td>\n",
       "      <td>On/Off</td>\n",
       "      <td>Drinking Fountain</td>\n",
       "      <td>f</td>\n",
       "      <td>Most Dependable</td>\n",
       "      <td>https://tools.wprdc.org/images/pittsburgh/wate...</td>\n",
       "      <td>Crawford-Roberts</td>\n",
       "      <td>6</td>\n",
       "      <td>3</td>\n",
       "      <td>42003030500</td>\n",
       "      <td>3</td>\n",
       "      <td>3</td>\n",
       "      <td>2</td>\n",
       "      <td>2-1</td>\n",
       "      <td>40.440453</td>\n",
       "      <td>-79.984064</td>\n",
       "    </tr>\n",
       "    <tr>\n",
       "      <th>2</th>\n",
       "      <td>1422043278</td>\n",
       "      <td>Allegheny Commons Arch St</td>\n",
       "      <td>Continuous</td>\n",
       "      <td>Drinking Fountain</td>\n",
       "      <td>f</td>\n",
       "      <td>Regular Fountain</td>\n",
       "      <td>https://tools.wprdc.org/images/pittsburgh/wate...</td>\n",
       "      <td>Allegheny Center</td>\n",
       "      <td>1</td>\n",
       "      <td>22</td>\n",
       "      <td>42003562700</td>\n",
       "      <td>1</td>\n",
       "      <td>22</td>\n",
       "      <td>1</td>\n",
       "      <td>1-7</td>\n",
       "      <td>40.454390</td>\n",
       "      <td>-80.008281</td>\n",
       "    </tr>\n",
       "    <tr>\n",
       "      <th>3</th>\n",
       "      <td>1237191582</td>\n",
       "      <td>Allegheny Commons East Tennis Courts</td>\n",
       "      <td>Continuous</td>\n",
       "      <td>Drinking Fountain</td>\n",
       "      <td>f</td>\n",
       "      <td>Regular Fountain</td>\n",
       "      <td>https://tools.wprdc.org/images/pittsburgh/wate...</td>\n",
       "      <td>Allegheny Center</td>\n",
       "      <td>1</td>\n",
       "      <td>22</td>\n",
       "      <td>42003562700</td>\n",
       "      <td>1</td>\n",
       "      <td>22</td>\n",
       "      <td>1</td>\n",
       "      <td>1-6</td>\n",
       "      <td>40.450874</td>\n",
       "      <td>-80.001962</td>\n",
       "    </tr>\n",
       "    <tr>\n",
       "      <th>4</th>\n",
       "      <td>1146184773</td>\n",
       "      <td>Allegheny Commons Pool</td>\n",
       "      <td>Continuous</td>\n",
       "      <td>Drinking Fountain</td>\n",
       "      <td>f</td>\n",
       "      <td>Regular Fountain</td>\n",
       "      <td>https://tools.wprdc.org/images/pittsburgh/wate...</td>\n",
       "      <td>Allegheny Center</td>\n",
       "      <td>1</td>\n",
       "      <td>22</td>\n",
       "      <td>42003562700</td>\n",
       "      <td>1</td>\n",
       "      <td>22</td>\n",
       "      <td>1</td>\n",
       "      <td>1-6</td>\n",
       "      <td>40.451003</td>\n",
       "      <td>-80.001502</td>\n",
       "    </tr>\n",
       "  </tbody>\n",
       "</table>\n",
       "</div>"
      ],
      "text/plain": [
       "           id                                  name control_type  \\\n",
       "0  1816791851                        Able Long Park   Continuous   \n",
       "1  1599892422               Albert Turk Graham Park       On/Off   \n",
       "2  1422043278             Allegheny Commons Arch St   Continuous   \n",
       "3  1237191582  Allegheny Commons East Tennis Courts   Continuous   \n",
       "4  1146184773                Allegheny Commons Pool   Continuous   \n",
       "\n",
       "        feature_type inactive              make  \\\n",
       "0  Drinking Fountain        f  Regular Fountain   \n",
       "1  Drinking Fountain        f   Most Dependable   \n",
       "2  Drinking Fountain        f  Regular Fountain   \n",
       "3  Drinking Fountain        f  Regular Fountain   \n",
       "4  Drinking Fountain        f  Regular Fountain   \n",
       "\n",
       "                                               image      neighborhood  \\\n",
       "0  https://tools.wprdc.org/images/pittsburgh/wate...         Beechview   \n",
       "1  https://tools.wprdc.org/images/pittsburgh/wate...  Crawford-Roberts   \n",
       "2  https://tools.wprdc.org/images/pittsburgh/wate...  Allegheny Center   \n",
       "3  https://tools.wprdc.org/images/pittsburgh/wate...  Allegheny Center   \n",
       "4  https://tools.wprdc.org/images/pittsburgh/wate...  Allegheny Center   \n",
       "\n",
       "   council_district  ward        tract  public_works_division  pli_division  \\\n",
       "0                 4    19  42003192000                      5            19   \n",
       "1                 6     3  42003030500                      3             3   \n",
       "2                 1    22  42003562700                      1            22   \n",
       "3                 1    22  42003562700                      1            22   \n",
       "4                 1    22  42003562700                      1            22   \n",
       "\n",
       "   police_zone fire_zone   latitude  longitude  \n",
       "0            6      4-28  40.408440 -80.028330  \n",
       "1            2       2-1  40.440453 -79.984064  \n",
       "2            1       1-7  40.454390 -80.008281  \n",
       "3            1       1-6  40.450874 -80.001962  \n",
       "4            1       1-6  40.451003 -80.001502  "
      ]
     },
     "execution_count": 4,
     "metadata": {},
     "output_type": "execute_result"
    }
   ],
   "source": [
    "import pandas as pd\n",
    "\n",
    "water_feat = pd.read_csv(\"water_features.csv\", sep=\",\")\n",
    "water_feat.head()"
   ]
  },
  {
   "cell_type": "markdown",
   "metadata": {},
   "source": [
    "### data results"
   ]
  },
  {
   "cell_type": "code",
   "execution_count": 5,
   "metadata": {},
   "outputs": [
    {
     "name": "stdout",
     "output_type": "stream",
     "text": [
      "Spring Garden           1\n",
      "Fineview                1\n",
      "Bluff                   1\n",
      "Homewood South          1\n",
      "Middle Hill             1\n",
      "                       ..\n",
      "Terrace Village         8\n",
      "Allegheny Center        8\n",
      "Bloomfield              8\n",
      "Highland Park          12\n",
      "Squirrel Hill South    14\n",
      "Name: neighborhood, Length: 66, dtype: int64\n"
     ]
    },
    {
     "data": {
      "text/plain": [
       "<matplotlib.axes._subplots.AxesSubplot at 0x7f8a6bdeb940>"
      ]
     },
     "execution_count": 5,
     "metadata": {},
     "output_type": "execute_result"
    },
    {
     "data": {
      "image/png": "[encoded data removed]",
      "text/plain": [
       "<Figure size 432x288 with 1 Axes>"
      ]
     },
     "metadata": {
      "needs_background": "light"
     },
     "output_type": "display_data"
    }
   ],
   "source": [
    "neigh_num_values = water_feat[\"neighborhood\"].value_counts().sort_values(ascending = True) \n",
    "\n",
    "print(neigh_num_values)\n",
    "neigh_num_values.tail(7).plot(kind = \"bar\")"
   ]
  },
  {
   "cell_type": "markdown",
   "metadata": {},
   "source": [
    "#### output\n",
    "\n",
    "we see that the worst neighborhood based on water features is Squirrel hill south closely followed by Highland park on being the neighborhood with most water"
   ]
  },
  {
   "cell_type": "markdown",
   "metadata": {},
   "source": [
    "#### Median Age at Death"
   ]
  },
  {
   "cell_type": "code",
   "execution_count": 53,
   "metadata": {},
   "outputs": [
    {
     "name": "stdout",
     "output_type": "stream",
     "text": [
      "<class 'pandas.core.frame.DataFrame'>\n",
      "RangeIndex: 92 entries, 0 to 91\n",
      "Data columns (total 7 columns):\n",
      " #   Column                 Non-Null Count  Dtype  \n",
      "---  ------                 --------------  -----  \n",
      " 0   NEIGHBORHOOD           91 non-null     object \n",
      " 1   BLACKdeaths            90 non-null     float64\n",
      " 2   Black MD AGE AT DEATH  77 non-null     float64\n",
      " 3   WHITEdeaths            90 non-null     float64\n",
      " 4   White MD AGE AT DEATH  81 non-null     float64\n",
      " 5   TOTALdeaths*           90 non-null     float64\n",
      " 6   TOTAL MD AGE AT DEATH  89 non-null     float64\n",
      "dtypes: float64(6), object(1)\n",
      "memory usage: 5.2+ KB\n"
     ]
    }
   ],
   "source": [
    "median_death = pd.read_csv('medianagedeath.csv')\n",
    "median_death.info()"
   ]
  },
  {
   "cell_type": "code",
   "execution_count": 54,
   "metadata": {},
   "outputs": [
    {
     "data": {
      "text/plain": [
       "<matplotlib.axes._subplots.AxesSubplot at 0x7f8a6b2317c0>"
      ]
     },
     "execution_count": 54,
     "metadata": {},
     "output_type": "execute_result"
    },
    {
     "data": {
      "image/png": "[encoded data removed]",
      "text/plain": [
       "<Figure size 432x288 with 1 Axes>"
      ]
     },
     "metadata": {
      "needs_background": "light"
     },
     "output_type": "display_data"
    }
   ],
   "source": [
    "median_death = median_death.set_index(\"NEIGHBORHOOD\", inplace=False)\n",
    "median_death_total = median_death['TOTAL MD AGE AT DEATH'].sort_values(ascending=True)\n",
    "median_death_total.dropna()\n",
    "median_death_total.tail(10).plot(kind='bar')"
   ]
  },
  {
   "cell_type": "code",
   "execution_count": 62,
   "metadata": {},
   "outputs": [
    {
     "name": "stdout",
     "output_type": "stream",
     "text": [
      "squirrel hill south (max): 85.9\n",
      "fairywood (min): 53.3\n",
      "85.9\n",
      "79.2\n",
      "78.4\n"
     ]
    }
   ],
   "source": [
    "\n",
    "print('squirrel hill south (max):', median_death_total.max())\n",
    "print('fairywood (min):', median_death_total['FAIRYWOOD'])\n",
    "print(median_death_total['SQUIRREL HILL SOUTH'])\n",
    "print(median_death_total['HIGHLAND PARK'])\n",
    "print(median_death_total['SOUTHSIDE FLATS'])"
   ]
  },
  {
   "cell_type": "markdown",
   "metadata": {},
   "source": [
    "Squirrel Hill South, Highland Park, and Southside Flats are the three neighborhoods to avoid based on the data about the pools and water features in these neighborhoods. However, these neighborhoods also have high median ages of death, proving that fear of water has little connection to actual death, and Thalassaphobiacs should balance their fear with their desire to live long lives. "
   ]
  },
  {
   "cell_type": "markdown",
   "metadata": {},
   "source": [
    "### Conclusion\n",
    "#### Samy\n",
    "\n",
    "I am afraid of swimming pools, but while I don't want to get in the deep end of a pool or drown in one, I wouldn't mind living in a neihborhood that has one. Therefore I wouldn't mind living in Squirrel Hill South despite its neihg number of pools becuase I would live to live long. the nieghboorhood is described as charming and leafy, which is good enough for me. \n",
    "#### Praz\n",
    "\n",
    "As a person not from Pittsburgh and who doesn’t really know much of the neighborhoods here, I would personally take my chances and try my best to overcome my fear of water so I can lead longer life even if it would be painful. I would live at squirrel hill south."
   ]
  },
  {
   "cell_type": "code",
   "execution_count": null,
   "metadata": {},
   "outputs": [],
   "source": []
  }
 ],
 "metadata": {
  "kernelspec": {
   "display_name": "Python 3",
   "language": "python",
   "name": "python3"
  },
  "language_info": {
   "codemirror_mode": {
    "name": "ipython",
    "version": 3
   },
   "file_extension": ".py",
   "mimetype": "text/x-python",
   "name": "python",
   "nbconvert_exporter": "python",
   "pygments_lexer": "ipython3",
   "version": "3.8.3"
  }
 },
 "nbformat": 4,
 "nbformat_minor": 4
}
