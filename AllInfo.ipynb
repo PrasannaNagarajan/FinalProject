{
 "cells": [
  {
   "cell_type": "markdown",
   "metadata": {},
   "source": [
    "### Introduction: \n",
    "Introduce the project, your approach, talk about the process of how you came up with the metric and some alternatives you may have explored.\n",
    "\n",
    "\n",
    "### The Metric: \n",
    "Describe your metric, what features are you measuring. What datasets are you using?\n",
    "Our goal was to find the dryest neighborhood, based on the lack of pools, fewest amount of water features, and the overall lowest median age of death. The data sets we used we used were [City Pools](https://data.wprdc.org/dataset/city-pools/resource/5cc254fe-2cbd-4912-9f44-2f95f0beea9a), [Water Features](https://data.wprdc.org/dataset/city-water-features/resource/513290a6-2bac-4e41-8029-354cbda6a7b7), and [Median Age at Death 2011-15 by Neighborhood](https://data.wprdc.org/dataset/median-age-death/resource/c2e1500a-a12a-4e91-be94-76c6a892b7e2). "
   ]
  },
  {
   "cell_type": "markdown",
   "metadata": {},
   "source": [
    "### The Best Neighborhood:"
   ]
  },
  {
   "cell_type": "code",
   "execution_count": 2,
   "metadata": {},
   "outputs": [],
   "source": [
    "import pandas as pd\n",
    "import numpy as np"
   ]
  },
  {
   "cell_type": "markdown",
   "metadata": {},
   "source": [
    "### City Pools"
   ]
  },
  {
   "cell_type": "code",
   "execution_count": 3,
   "metadata": {},
   "outputs": [],
   "source": [
    "#load the city pools csv and the neighborhoods csv\n",
    "city_pools = pd.read_csv(\"CityPools.csv\")\n",
    "nbhoods = pd.read_csv(\"neighborhoods.csv\")"
   ]
  },
  {
   "cell_type": "markdown",
   "metadata": {},
   "source": [
    "#### Important Information\n",
    "##### City Pools\n",
    " * column 2, 'retired' has 0 non-null values\n",
    " * columns of interest are: name, capacity and neighborhood\n",
    "\n",
    "##### Neighborhoods\n",
    " * column 20, \"hood\", has the names of all 90 neighborhoods "
   ]
  },
  {
   "cell_type": "code",
   "execution_count": 2,
   "metadata": {},
   "outputs": [
    {
     "ename": "NameError",
     "evalue": "name 'city_pools' is not defined",
     "output_type": "error",
     "traceback": [
      "\u001b[0;31m---------------------------------------------------------------------------\u001b[0m",
      "\u001b[0;31mNameError\u001b[0m                                 Traceback (most recent call last)",
      "\u001b[0;32m<ipython-input-2-ce0b1e43648e>\u001b[0m in \u001b[0;36m<module>\u001b[0;34m\u001b[0m\n\u001b[1;32m      1\u001b[0m \u001b[0;31m#number of pools per neighborhood -- aka the num of times each neigborhood appears\u001b[0m\u001b[0;34m\u001b[0m\u001b[0;34m\u001b[0m\u001b[0;34m\u001b[0m\u001b[0m\n\u001b[0;32m----> 2\u001b[0;31m \u001b[0mnb_counts\u001b[0m \u001b[0;34m=\u001b[0m \u001b[0mcity_pools\u001b[0m\u001b[0;34m[\u001b[0m\u001b[0;34m'neighborhood'\u001b[0m\u001b[0;34m]\u001b[0m\u001b[0;34m.\u001b[0m\u001b[0mvalue_counts\u001b[0m\u001b[0;34m(\u001b[0m\u001b[0;34m)\u001b[0m\u001b[0;34m.\u001b[0m\u001b[0msort_values\u001b[0m\u001b[0;34m(\u001b[0m\u001b[0mascending\u001b[0m\u001b[0;34m=\u001b[0m\u001b[0;32mFalse\u001b[0m\u001b[0;34m)\u001b[0m\u001b[0;34m\u001b[0m\u001b[0;34m\u001b[0m\u001b[0m\n\u001b[0m\u001b[1;32m      3\u001b[0m \u001b[0mprint\u001b[0m\u001b[0;34m(\u001b[0m\u001b[0mnb_counts\u001b[0m\u001b[0;34m)\u001b[0m\u001b[0;34m\u001b[0m\u001b[0;34m\u001b[0m\u001b[0m\n\u001b[1;32m      4\u001b[0m \u001b[0mprint\u001b[0m\u001b[0;34m(\u001b[0m\u001b[0mlen\u001b[0m\u001b[0;34m(\u001b[0m\u001b[0mnb_counts\u001b[0m\u001b[0;34m)\u001b[0m\u001b[0;34m)\u001b[0m\u001b[0;34m\u001b[0m\u001b[0;34m\u001b[0m\u001b[0m\n\u001b[1;32m      5\u001b[0m \u001b[0mnb_counts\u001b[0m\u001b[0;34m.\u001b[0m\u001b[0mto_frame\u001b[0m\u001b[0;34m(\u001b[0m\u001b[0;34m)\u001b[0m\u001b[0;34m\u001b[0m\u001b[0;34m\u001b[0m\u001b[0m\n",
      "\u001b[0;31mNameError\u001b[0m: name 'city_pools' is not defined"
     ]
    }
   ],
   "source": [
    "#number of pools per neighborhood -- aka the num of times each neigborhood appears\n",
    "nb_counts = city_pools['neighborhood'].value_counts().sort_values(ascending=False)\n",
    "print(nb_counts)\n",
    "print(len(nb_counts))\n",
    "nb_counts.to_frame()\n",
    "nb_counts.plot(kind='bar')"
   ]
  },
  {
   "cell_type": "markdown",
   "metadata": {},
   "source": [
    "#### Neighborhoods in city_pools\n",
    "top 2 neighborhoods to avoid are South Side Flats and Highland Park\n",
    "\n",
    "city_pools only includes 26/90 neighborhoods\n",
    " \n",
    " --> there are 64 neighborhoods with 0 pools"
   ]
  },
  {
   "cell_type": "markdown",
   "metadata": {},
   "source": [
    "## Neighborhood Water Features"
   ]
  },
  {
   "cell_type": "markdown",
   "metadata": {},
   "source": [
    "### data sample"
   ]
  },
  {
   "cell_type": "code",
   "execution_count": 3,
   "metadata": {},
   "outputs": [
    {
     "data": {
      "text/html": [
       "<div>\n",
       "<style scoped>\n",
       "    .dataframe tbody tr th:only-of-type {\n",
       "        vertical-align: middle;\n",
       "    }\n",
       "\n",
       "    .dataframe tbody tr th {\n",
       "        vertical-align: top;\n",
       "    }\n",
       "\n",
       "    .dataframe thead th {\n",
       "        text-align: right;\n",
       "    }\n",
       "</style>\n",
       "<table border=\"1\" class=\"dataframe\">\n",
       "  <thead>\n",
       "    <tr style=\"text-align: right;\">\n",
       "      <th></th>\n",
       "      <th>id</th>\n",
       "      <th>name</th>\n",
       "      <th>control_type</th>\n",
       "      <th>feature_type</th>\n",
       "      <th>inactive</th>\n",
       "      <th>make</th>\n",
       "      <th>image</th>\n",
       "      <th>neighborhood</th>\n",
       "      <th>council_district</th>\n",
       "      <th>ward</th>\n",
       "      <th>tract</th>\n",
       "      <th>public_works_division</th>\n",
       "      <th>pli_division</th>\n",
       "      <th>police_zone</th>\n",
       "      <th>fire_zone</th>\n",
       "      <th>latitude</th>\n",
       "      <th>longitude</th>\n",
       "    </tr>\n",
       "  </thead>\n",
       "  <tbody>\n",
       "    <tr>\n",
       "      <th>0</th>\n",
       "      <td>1816791851</td>\n",
       "      <td>Able Long Park</td>\n",
       "      <td>Continuous</td>\n",
       "      <td>Drinking Fountain</td>\n",
       "      <td>f</td>\n",
       "      <td>Regular Fountain</td>\n",
       "      <td>https://tools.wprdc.org/images/pittsburgh/wate...</td>\n",
       "      <td>Beechview</td>\n",
       "      <td>4</td>\n",
       "      <td>19</td>\n",
       "      <td>42003192000</td>\n",
       "      <td>5</td>\n",
       "      <td>19</td>\n",
       "      <td>6</td>\n",
       "      <td>4-28</td>\n",
       "      <td>40.408440</td>\n",
       "      <td>-80.028330</td>\n",
       "    </tr>\n",
       "    <tr>\n",
       "      <th>1</th>\n",
       "      <td>1599892422</td>\n",
       "      <td>Albert Turk Graham Park</td>\n",
       "      <td>On/Off</td>\n",
       "      <td>Drinking Fountain</td>\n",
       "      <td>f</td>\n",
       "      <td>Most Dependable</td>\n",
       "      <td>https://tools.wprdc.org/images/pittsburgh/wate...</td>\n",
       "      <td>Crawford-Roberts</td>\n",
       "      <td>6</td>\n",
       "      <td>3</td>\n",
       "      <td>42003030500</td>\n",
       "      <td>3</td>\n",
       "      <td>3</td>\n",
       "      <td>2</td>\n",
       "      <td>2-1</td>\n",
       "      <td>40.440453</td>\n",
       "      <td>-79.984064</td>\n",
       "    </tr>\n",
       "    <tr>\n",
       "      <th>2</th>\n",
       "      <td>1422043278</td>\n",
       "      <td>Allegheny Commons Arch St</td>\n",
       "      <td>Continuous</td>\n",
       "      <td>Drinking Fountain</td>\n",
       "      <td>f</td>\n",
       "      <td>Regular Fountain</td>\n",
       "      <td>https://tools.wprdc.org/images/pittsburgh/wate...</td>\n",
       "      <td>Allegheny Center</td>\n",
       "      <td>1</td>\n",
       "      <td>22</td>\n",
       "      <td>42003562700</td>\n",
       "      <td>1</td>\n",
       "      <td>22</td>\n",
       "      <td>1</td>\n",
       "      <td>1-7</td>\n",
       "      <td>40.454390</td>\n",
       "      <td>-80.008281</td>\n",
       "    </tr>\n",
       "    <tr>\n",
       "      <th>3</th>\n",
       "      <td>1237191582</td>\n",
       "      <td>Allegheny Commons East Tennis Courts</td>\n",
       "      <td>Continuous</td>\n",
       "      <td>Drinking Fountain</td>\n",
       "      <td>f</td>\n",
       "      <td>Regular Fountain</td>\n",
       "      <td>https://tools.wprdc.org/images/pittsburgh/wate...</td>\n",
       "      <td>Allegheny Center</td>\n",
       "      <td>1</td>\n",
       "      <td>22</td>\n",
       "      <td>42003562700</td>\n",
       "      <td>1</td>\n",
       "      <td>22</td>\n",
       "      <td>1</td>\n",
       "      <td>1-6</td>\n",
       "      <td>40.450874</td>\n",
       "      <td>-80.001962</td>\n",
       "    </tr>\n",
       "    <tr>\n",
       "      <th>4</th>\n",
       "      <td>1146184773</td>\n",
       "      <td>Allegheny Commons Pool</td>\n",
       "      <td>Continuous</td>\n",
       "      <td>Drinking Fountain</td>\n",
       "      <td>f</td>\n",
       "      <td>Regular Fountain</td>\n",
       "      <td>https://tools.wprdc.org/images/pittsburgh/wate...</td>\n",
       "      <td>Allegheny Center</td>\n",
       "      <td>1</td>\n",
       "      <td>22</td>\n",
       "      <td>42003562700</td>\n",
       "      <td>1</td>\n",
       "      <td>22</td>\n",
       "      <td>1</td>\n",
       "      <td>1-6</td>\n",
       "      <td>40.451003</td>\n",
       "      <td>-80.001502</td>\n",
       "    </tr>\n",
       "  </tbody>\n",
       "</table>\n",
       "</div>"
      ],
      "text/plain": [
       "           id                                  name control_type  \\\n",
       "0  1816791851                        Able Long Park   Continuous   \n",
       "1  1599892422               Albert Turk Graham Park       On/Off   \n",
       "2  1422043278             Allegheny Commons Arch St   Continuous   \n",
       "3  1237191582  Allegheny Commons East Tennis Courts   Continuous   \n",
       "4  1146184773                Allegheny Commons Pool   Continuous   \n",
       "\n",
       "        feature_type inactive              make  \\\n",
       "0  Drinking Fountain        f  Regular Fountain   \n",
       "1  Drinking Fountain        f   Most Dependable   \n",
       "2  Drinking Fountain        f  Regular Fountain   \n",
       "3  Drinking Fountain        f  Regular Fountain   \n",
       "4  Drinking Fountain        f  Regular Fountain   \n",
       "\n",
       "                                               image      neighborhood  \\\n",
       "0  https://tools.wprdc.org/images/pittsburgh/wate...         Beechview   \n",
       "1  https://tools.wprdc.org/images/pittsburgh/wate...  Crawford-Roberts   \n",
       "2  https://tools.wprdc.org/images/pittsburgh/wate...  Allegheny Center   \n",
       "3  https://tools.wprdc.org/images/pittsburgh/wate...  Allegheny Center   \n",
       "4  https://tools.wprdc.org/images/pittsburgh/wate...  Allegheny Center   \n",
       "\n",
       "   council_district  ward        tract  public_works_division  pli_division  \\\n",
       "0                 4    19  42003192000                      5            19   \n",
       "1                 6     3  42003030500                      3             3   \n",
       "2                 1    22  42003562700                      1            22   \n",
       "3                 1    22  42003562700                      1            22   \n",
       "4                 1    22  42003562700                      1            22   \n",
       "\n",
       "   police_zone fire_zone   latitude  longitude  \n",
       "0            6      4-28  40.408440 -80.028330  \n",
       "1            2       2-1  40.440453 -79.984064  \n",
       "2            1       1-7  40.454390 -80.008281  \n",
       "3            1       1-6  40.450874 -80.001962  \n",
       "4            1       1-6  40.451003 -80.001502  "
      ]
     },
     "execution_count": 3,
     "metadata": {},
     "output_type": "execute_result"
    }
   ],
   "source": [
    "import pandas as pd\n",
    "\n",
    "water_feat = pd.read_csv(\"water_features.csv\", sep=\",\")\n",
    "water_feat.head()"
   ]
  },
  {
   "cell_type": "markdown",
   "metadata": {},
   "source": [
    "### data results"
   ]
  },
  {
   "cell_type": "code",
   "execution_count": 4,
   "metadata": {},
   "outputs": [
    {
     "name": "stdout",
     "output_type": "stream",
     "text": [
      "Spring Garden           1\n",
      "Fineview                1\n",
      "Bluff                   1\n",
      "Homewood South          1\n",
      "Middle Hill             1\n",
      "                       ..\n",
      "Terrace Village         8\n",
      "Allegheny Center        8\n",
      "Bloomfield              8\n",
      "Highland Park          12\n",
      "Squirrel Hill South    14\n",
      "Name: neighborhood, Length: 66, dtype: int64\n"
     ]
    },
    {
     "data": {
      "text/plain": [
       "<matplotlib.axes._subplots.AxesSubplot at 0x7f0ad513f6d0>"
      ]
     },
     "execution_count": 4,
     "metadata": {},
     "output_type": "execute_result"
    },
    {
     "data": {
      "image/png": "[encoded data removed]",
      "text/plain": [
       "<Figure size 432x288 with 1 Axes>"
      ]
     },
     "metadata": {
      "needs_background": "light"
     },
     "output_type": "display_data"
    }
   ],
   "source": [
    "neigh_num_values = water_feat[\"neighborhood\"].value_counts().sort_values(ascending = True) \n",
    "\n",
    "print(neigh_num_values)\n",
    "neigh_num_values.tail(7).plot(kind = \"bar\")"
   ]
  },
  {
   "cell_type": "markdown",
   "metadata": {},
   "source": [
    "#### output\n",
    "\n",
    "we see that the worst neighborhood based on water features is Squirrel hill south closely followed by Highland park on being the neighborhood with most water"
   ]
  },
  {
   "cell_type": "code",
   "execution_count": null,
   "metadata": {},
   "outputs": [],
   "source": []
  }
 ],
 "metadata": {
  "kernelspec": {
   "display_name": "Python 3",
   "language": "python",
   "name": "python3"
  },
  "language_info": {
   "codemirror_mode": {
    "name": "ipython",
    "version": 3
   },
   "file_extension": ".py",
   "mimetype": "text/x-python",
   "name": "python",
   "nbconvert_exporter": "python",
   "pygments_lexer": "ipython3",
   "version": "3.8.3"
  }
 },
 "nbformat": 4,
 "nbformat_minor": 4
}
